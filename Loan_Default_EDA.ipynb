{
  "nbformat": 4,
  "nbformat_minor": 0,
  "metadata": {
    "colab": {
      "name": "Loan_Default_EDA.ipynb",
      "provenance": [],
      "authorship_tag": "ABX9TyPta9HJzi9RlKGsSSp+9zZB",
      "include_colab_link": true
    },
    "kernelspec": {
      "name": "python3",
      "display_name": "Python 3"
    }
  },
  "cells": [
    {
      "cell_type": "markdown",
      "metadata": {
        "id": "view-in-github",
        "colab_type": "text"
      },
      "source": [
        "<a href=\"https://colab.research.google.com/github/anandhramadoss/Loan_Default_Prediction/blob/master/Loan_Default_EDA.ipynb\" target=\"_parent\"><img src=\"https://colab.research.google.com/assets/colab-badge.svg\" alt=\"Open In Colab\"/></a>"
      ]
    },
    {
      "cell_type": "code",
      "metadata": {
        "id": "sxdtblfjtDWU",
        "colab_type": "code",
        "colab": {
          "base_uri": "https://localhost:8080/",
          "height": 50
        },
        "outputId": "524329ee-3250-479c-9b51-e7afe47c0681"
      },
      "source": [
        "import pandas as pd\n",
        "import numpy as np \n",
        "import matplotlib.pyplot as plt \n",
        "\n",
        "dataset1_url = 'https://raw.githubusercontent.com/anandhramadoss/Loan_Default_Prediction/master/data/application_data1.csv?token=ABXYRV6SR6E3TQMCE7R3ZCC7K3MOS'\n",
        "df_ds1 = pd.read_csv(dataset1_url)\n",
        "print(df_ds1.shape[0])\n",
        "print(df_ds1.shape[1])\n"
      ],
      "execution_count": 5,
      "outputs": [
        {
          "output_type": "stream",
          "text": [
            "40000\n",
            "122\n"
          ],
          "name": "stdout"
        }
      ]
    }
  ]
}