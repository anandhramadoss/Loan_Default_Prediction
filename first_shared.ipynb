{
  "nbformat": 4,
  "nbformat_minor": 0,
  "metadata": {
    "colab": {
      "name": "first_shared.ipynb",
      "provenance": [],
      "collapsed_sections": [],
      "authorship_tag": "ABX9TyOD5vkZtgFsDGdzkcSOlSf8",
      "include_colab_link": true
    },
    "kernelspec": {
      "name": "python3",
      "display_name": "Python 3"
    }
  },
  "cells": [
    {
      "cell_type": "markdown",
      "metadata": {
        "id": "view-in-github",
        "colab_type": "text"
      },
      "source": [
        "<a href=\"https://colab.research.google.com/github/anandhramadoss/Loan_Default_Prediction/blob/master/first_shared.ipynb\" target=\"_parent\"><img src=\"https://colab.research.google.com/assets/colab-badge.svg\" alt=\"Open In Colab\"/></a>"
      ]
    },
    {
      "cell_type": "markdown",
      "metadata": {
        "id": "UhhZlf_tYc6R",
        "colab_type": "text"
      },
      "source": [
        "First Colab notebook shared with Project Team 5 for DAAN 888 project - Loan Default Prediction "
      ]
    },
    {
      "cell_type": "code",
      "metadata": {
        "id": "jbbtVvBwY0Ss",
        "colab_type": "code",
        "colab": {
          "base_uri": "https://localhost:8080/",
          "height": 34
        },
        "outputId": "f90a0db8-6184-4bc5-f97e-b6c04128dd42"
      },
      "source": [
        "print(\"Hello Parvez and David\")"
      ],
      "execution_count": null,
      "outputs": [
        {
          "output_type": "stream",
          "text": [
            "Hello Parvez and David\n"
          ],
          "name": "stdout"
        }
      ]
    }
  ]
}